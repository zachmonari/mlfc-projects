{
 "cells": [
  {
   "cell_type": "markdown",
   "id": "0a95b3da",
   "metadata": {},
   "source": [
    "# Fynesse Data Analysis Template\n",
    "\n",
    "## Modern Python Data Science Workflow\n",
    "\n",
    "**Updated**: August 2025  \n",
    "**Framework**: Fynesse (Access, Assess, Address)  \n",
    "**Environment**: Poetry + Modern Python Tools\n",
    "\n",
    "This notebook demonstrates the complete Fynesse data analysis pipeline using modern Python development practices.\n",
    "\n",
    "### What You'll Learn\n",
    "- How to use the Fynesse framework for structured data analysis\n",
    "- Modern Python development practices (type hints, error handling, logging)\n",
    "- Professional data science workflow\n",
    "- Integration with testing and code quality tools\n",
    "\n",
    "---\n",
    "\n",
    "## Setup and Installation\n",
    "\n",
    "This notebook assumes you're working in a Poetry environment with the Fynesse template installed."
   ]
  },
  {
   "cell_type": "code",
   "execution_count": null,
   "id": "1c574713",
   "metadata": {},
   "outputs": [],
   "source": [
    "# Import the Fynesse framework\n",
    "import fynesse\n",
    "from fynesse import access, assess, address\n",
    "\n",
    "# Import common data science libraries\n",
    "import pandas as pd\n",
    "import numpy as np\n",
    "import matplotlib.pyplot as plt\n",
    "import seaborn as sns\n",
    "\n",
    "# Set up plotting\n",
    "plt.style.use('seaborn-v0_8')\n",
    "sns.set_palette(\"husl\")\n",
    "\n",
    "print(\"✅ Fynesse framework imported successfully\")\n",
    "print(f\"📦 Framework version: {fynesse.__version__ if hasattr(fynesse, '__version__') else 'Development'}\")"
   ]
  },
  {
   "cell_type": "markdown",
   "id": "1cd2485f",
   "metadata": {},
   "source": [
    "---\n",
    "\n",
    "## Phase 1: Access - Data Acquisition\n",
    "\n",
    "The first phase involves gaining access to your data, including handling legal, ethical, and availability challenges."
   ]
  },
  {
   "cell_type": "code",
   "execution_count": null,
   "id": "e6217ca5",
   "metadata": {},
   "outputs": [],
   "source": [
    "# Load data using the access module\n",
    "print(\"🔍 Loading data from access module...\")\n",
    "data = access.data()\n",
    "\n",
    "if data is not None:\n",
    "    print(f\"✅ Data loaded successfully: {len(data)} rows, {len(data.columns)} columns\")\n",
    "    print(f\"📊 Data types: {data.dtypes.value_counts().to_dict()}\")\n",
    "else:\n",
    "    print(\"❌ No data available. Please check your data source configuration.\")\n",
    "    print(\"💡 Tip: Update fynesse/defaults.yml with your data source information\")"
   ]
  },
  {
   "cell_type": "markdown",
   "id": "18fdc079",
   "metadata": {},
   "source": [
    "---\n",
    "\n",
    "## Phase 2: Assess - Data Quality Assessment\n",
    "\n",
    "The second phase involves understanding data quality and characteristics without preconceived questions."
   ]
  },
  {
   "cell_type": "code",
   "execution_count": null,
   "id": "c6add4a2",
   "metadata": {},
   "outputs": [],
   "source": [
    "# Assess data quality using the assess module\n",
    "print(\"🔍 Assessing data quality...\")\n",
    "assessed_data = assess.data()\n",
    "\n",
    "if assessed_data is not None:\n",
    "    print(f\"✅ Data assessment completed: {len(assessed_data)} rows, {len(assessed_data.columns)} columns\")\n",
    "    \n",
    "    # Display basic data quality metrics\n",
    "    print(\"\\n📈 Data Quality Summary:\")\n",
    "    print(f\"   • Missing values: {assessed_data.isnull().sum().sum()} total\")\n",
    "    print(f\"   • Duplicate rows: {assessed_data.duplicated().sum()}\")\n",
    "    print(f\"   • Memory usage: {assessed_data.memory_usage(deep=True).sum() / 1024**2:.2f} MB\")\n",
    "else:\n",
    "    print(\"❌ Data assessment failed. Check the assess module implementation.\")"
   ]
  },
  {
   "cell_type": "markdown",
   "id": "0f04b856",
   "metadata": {},
   "source": [
    "### Data Quality Visualization"
   ]
  },
  {
   "cell_type": "code",
   "execution_count": null,
   "id": "0809fa84",
   "metadata": {},
   "outputs": [],
   "source": [
    "# Visualize data quality issues\n",
    "if assessed_data is not None:\n",
    "    fig, axes = plt.subplots(2, 2, figsize=(15, 10))\n",
    "    \n",
    "    # Missing values heatmap\n",
    "    missing_data = assessed_data.isnull()\n",
    "    if missing_data.any().any():\n",
    "        sns.heatmap(missing_data, cbar=True, ax=axes[0,0])\n",
    "        axes[0,0].set_title('Missing Values Heatmap')\n",
    "    else:\n",
    "        axes[0,0].text(0.5, 0.5, 'No Missing Values', ha='center', va='center', transform=axes[0,0].transAxes)\n",
    "        axes[0,0].set_title('Missing Values Heatmap')\n",
    "    \n",
    "    # Data types distribution\n",
    "    data_types = assessed_data.dtypes.value_counts()\n",
    "    axes[0,1].pie(data_types.values, labels=data_types.index, autopct='%1.1f%%')\n",
    "    axes[0,1].set_title('Data Types Distribution')\n",
    "    \n",
    "    # Column-wise missing values\n",
    "    missing_counts = assessed_data.isnull().sum()\n",
    "    if missing_counts.sum() > 0:\n",
    "        missing_counts[missing_counts > 0].plot(kind='bar', ax=axes[1,0])\n",
    "        axes[1,0].set_title('Missing Values by Column')\n",
    "        axes[1,0].tick_params(axis='x', rotation=45)\n",
    "    else:\n",
    "        axes[1,0].text(0.5, 0.5, 'No Missing Values', ha='center', va='center', transform=axes[1,0].transAxes)\n",
    "        axes[1,0].set_title('Missing Values by Column')\n",
    "    \n",
    "    # Numeric data distribution (if available)\n",
    "    numeric_cols = assessed_data.select_dtypes(include=[np.number]).columns\n",
    "    if len(numeric_cols) > 0:\n",
    "        assessed_data[numeric_cols[:3]].hist(ax=axes[1,1], bins=20)\n",
    "        axes[1,1].set_title('Numeric Data Distribution')\n",
    "    else:\n",
    "        axes[1,1].text(0.5, 0.5, 'No Numeric Columns', ha='center', va='center', transform=axes[1,1].transAxes)\n",
    "        axes[1,1].set_title('Numeric Data Distribution')\n",
    "    \n",
    "    plt.tight_layout()\n",
    "    plt.show()"
   ]
  },
  {
   "cell_type": "markdown",
   "id": "27b4aec0",
   "metadata": {},
   "source": [
    "---\n",
    "\n",
    "## Phase 3: Address - Question Answering\n",
    "\n",
    "The third phase involves answering specific questions using the assessed data, including modeling and visualization."
   ]
  },
  {
   "cell_type": "code",
   "execution_count": null,
   "id": "ecde3120",
   "metadata": {},
   "outputs": [],
   "source": [
    "# Analyze data using the address module\n",
    "print(\"🔍 Analyzing data to address specific questions...\")\n",
    "analysis_results = address.analyze_data(assessed_data)\n",
    "\n",
    "if 'error' not in analysis_results:\n",
    "    print(\"✅ Data analysis completed successfully\")\n",
    "    print(f\"📊 Sample size: {analysis_results.get('sample_size', 'N/A')}\")\n",
    "    print(f\"📋 Columns analyzed: {len(analysis_results.get('columns', []))}\")\n",
    "    print(f\"🔍 Analysis complete: {analysis_results.get('analysis_complete', False)}\")\n",
    "else:\n",
    "    print(f\"❌ Analysis failed: {analysis_results.get('error', 'Unknown error')}\")"
   ]
  },
  {
   "cell_type": "markdown",
   "id": "95b78b66",
   "metadata": {},
   "source": [
    "### Analysis Results Visualization"
   ]
  },
  {
   "cell_type": "code",
   "execution_count": null,
   "id": "7133af91",
   "metadata": {},
   "outputs": [],
   "source": [
    "# Display analysis results\n",
    "if 'error' not in analysis_results and assessed_data is not None:\n",
    "    # Create summary visualizations\n",
    "    fig, axes = plt.subplots(2, 2, figsize=(15, 10))\n",
    "    \n",
    "    # Data overview\n",
    "    axes[0,0].text(0.1, 0.8, f'Sample Size: {len(assessed_data)}', fontsize=12, transform=axes[0,0].transAxes)\n",
    "    axes[0,0].text(0.1, 0.6, f'Columns: {len(assessed_data.columns)}', fontsize=12, transform=axes[0,0].transAxes)\n",
    "    axes[0,0].text(0.1, 0.4, f'Memory: {assessed_data.memory_usage(deep=True).sum() / 1024**2:.1f} MB', fontsize=12, transform=axes[0,0].transAxes)\n",
    "    axes[0,0].set_title('Data Overview')\n",
    "    axes[0,0].axis('off')\n",
    "    \n",
    "    # Missing values summary\n",
    "    missing_pct = (assessed_data.isnull().sum() / len(assessed_data)) * 100\n",
    "    if missing_pct.sum() > 0:\n",
    "        missing_pct[missing_pct > 0].plot(kind='bar', ax=axes[0,1])\n",
    "        axes[0,1].set_title('Missing Values (%)')\n",
    "        axes[0,1].tick_params(axis='x', rotation=45)\n",
    "    else:\n",
    "        axes[0,1].text(0.5, 0.5, 'No Missing Values', ha='center', va='center', transform=axes[0,1].transAxes)\n",
    "        axes[0,1].set_title('Missing Values (%)')\n",
    "    \n",
    "    # Data types\n",
    "    data_types = assessed_data.dtypes.value_counts()\n",
    "    axes[1,0].pie(data_types.values, labels=data_types.index, autopct='%1.1f%%')\n",
    "    axes[1,0].set_title('Data Types')\n",
    "    \n",
    "    # Numeric summary (if available)\n",
    "    numeric_cols = assessed_data.select_dtypes(include=[np.number]).columns\n",
    "    if len(numeric_cols) > 0:\n",
    "        assessed_data[numeric_cols[:3]].boxplot(ax=axes[1,1])\n",
    "        axes[1,1].set_title('Numeric Data Distribution')\n",
    "        axes[1,1].tick_params(axis='x', rotation=45)\n",
    "    else:\n",
    "        axes[1,1].text(0.5, 0.5, 'No Numeric Columns', ha='center', va='center', transform=axes[1,1].transAxes)\n",
    "        axes[1,1].set_title('Numeric Data Distribution')\n",
    "    \n",
    "    plt.tight_layout()\n",
    "    plt.show()"
   ]
  },
  {
   "cell_type": "markdown",
   "id": "eb9eb790",
   "metadata": {},
   "source": [
    "---\n",
    "\n",
    "## Next Steps: Customizing Your Analysis\n",
    "\n",
    "### 1. Update Configuration\n",
    "Edit `fynesse/defaults.yml` to point to your data sources:"
   ]
  },
  {
   "cell_type": "code",
   "execution_count": null,
   "id": "1ec98537",
   "metadata": {
    "attributes": {
     "classes": [
      "yaml"
     ],
     "id": ""
    }
   },
   "outputs": [],
   "source": [
    "data_url: \"your_data_source_here\""
   ]
  },
  {
   "cell_type": "markdown",
   "id": "e3c58a59",
   "metadata": {},
   "source": [
    "### 2. Implement Your Data Access\n",
    "Modify `fynesse/access.py` to load your specific data:"
   ]
  },
  {
   "cell_type": "code",
   "execution_count": null,
   "id": "6ecea194",
   "metadata": {},
   "outputs": [],
   "source": [
    "def data() -> Union[pd.DataFrame, None]:\n",
    "    # Your data loading code here\n",
    "    return your_dataframe"
   ]
  },
  {
   "cell_type": "markdown",
   "id": "49d8861b",
   "metadata": {},
   "source": [
    "### 3. Add Data Assessment Logic\n",
    "Enhance `fynesse/assess.py` with your quality checks:"
   ]
  },
  {
   "cell_type": "code",
   "execution_count": null,
   "id": "38657e2f",
   "metadata": {},
   "outputs": [],
   "source": [
    "def data() -> Union[pd.DataFrame, Any]:\n",
    "    # Your data quality assessment code here\n",
    "    return cleaned_dataframe"
   ]
  },
  {
   "cell_type": "markdown",
   "id": "8ed66de3",
   "metadata": {},
   "source": [
    "### 4. Implement Analysis Functions\n",
    "Customize `fynesse/address.py` for your specific questions:"
   ]
  },
  {
   "cell_type": "code",
   "execution_count": null,
   "id": "5d09a8b9",
   "metadata": {},
   "outputs": [],
   "source": [
    "def analyze_data(data: Union[pd.DataFrame, Any]) -> dict[str, Any]:\n",
    "    # Your analysis code here\n",
    "    return results"
   ]
  },
  {
   "cell_type": "markdown",
   "id": "2714ae8d",
   "metadata": {},
   "source": [
    "### 5. Run Tests\n",
    "Ensure your implementation works:"
   ]
  },
  {
   "cell_type": "code",
   "execution_count": null,
   "id": "30f4019a",
   "metadata": {},
   "outputs": [],
   "source": [
    "%%bash\n",
    "poetry run pytest\n",
    "poetry run black fynesse/\n",
    "poetry run mypy fynesse/"
   ]
  },
  {
   "cell_type": "markdown",
   "id": "21fb09c9",
   "metadata": {},
   "source": [
    "---\n",
    "\n",
    "## Framework Benefits\n",
    "\n",
    "✅ **Structured Approach**: Clear phases for data science projects  \n",
    "✅ **Modern Python**: Type hints, error handling, logging  \n",
    "✅ **Professional Quality**: Testing, formatting, linting  \n",
    "✅ **Educational**: Clear implementation guides and examples  \n",
    "✅ **Extensible**: Easy to customize for your specific needs  \n",
    "✅ **Reproducible**: Poetry ensures consistent environments  \n",
    "\n",
    "This template provides a solid foundation for professional data science projects while remaining accessible for learning and teaching."
   ]
  }
 ],
 "metadata": {
  "kernelspec": {
   "display_name": "Python 3 (ipykernel)",
   "language": "python",
   "name": "python3"
  },
  "language_info": {
   "codemirror_mode": {
    "name": "ipython",
    "version": 3
   },
   "file_extension": ".py",
   "mimetype": "text/x-python",
   "name": "python",
   "nbconvert_exporter": "python",
   "pygments_lexer": "ipython3",
   "version": "3.11.13"
  }
 },
 "nbformat": 4,
 "nbformat_minor": 5
}
